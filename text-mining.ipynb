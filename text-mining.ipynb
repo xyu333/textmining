{
 "cells": [
  {
   "cell_type": "markdown",
   "id": "315bd5e9",
   "metadata": {},
   "source": [
    "Import Packages"
   ]
  },
  {
   "cell_type": "code",
   "execution_count": null,
   "id": "18be0905",
   "metadata": {},
   "outputs": [],
   "source": [
    "import json\n",
    "from nltk.corpus import PlaintextCorpusReader"
   ]
  },
  {
   "cell_type": "code",
   "execution_count": null,
   "id": "191bb41d",
   "metadata": {},
   "outputs": [],
   "source": [
    "corpus_dir=\"./Literature-original\"\n",
    "corpus=PlaintextCorpusReader(corpus_dir,\".*\\.txt\")\n",
    "files_names = corpus.fileids()\n",
    "files_names"
   ]
  },
  {
   "cell_type": "code",
   "execution_count": null,
   "id": "00c482d1",
   "metadata": {},
   "outputs": [],
   "source": [
    "documents = {}\n",
    "for file_name in files_names:\n",
    "    documents[file_name] = corpus.raw(file_name)\n",
    "print(json.dumps(documents, indent=4, ensure_ascii=(False)))"
   ]
  },
  {
   "cell_type": "code",
   "execution_count": null,
   "id": "29915959",
   "metadata": {},
   "outputs": [],
   "source": [
    "for file_name in documents:\n",
    "    documents[file_name] = documents[file_name].lower()"
   ]
  }
 ],
 "metadata": {
  "kernelspec": {
   "display_name": ".venv",
   "language": "python",
   "name": "python3"
  },
  "language_info": {
   "name": "python",
   "version": "3.14.0"
  }
 },
 "nbformat": 4,
 "nbformat_minor": 5
}
